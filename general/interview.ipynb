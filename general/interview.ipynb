{
 "cells": [
  {
   "cell_type": "code",
   "execution_count": 2,
   "metadata": {},
   "outputs": [
    {
     "name": "stdout",
     "output_type": "stream",
     "text": [
      "['a', 'ah', 'aha', 'h', 'ha', 'a']\n",
      "6\n"
     ]
    }
   ],
   "source": [
    "import nltk\n",
    "from nltk.corpus import words\n",
    "from itertools import combinations\n",
    "\n",
    "# we need to create all possible divisions of the input string - this solves the problem of word ordering\n",
    "def get_all_substrings(input: str):\n",
    "    length = len(input) + 1\n",
    "    division_list = [input[x:y] for x, y in combinations(range(length), r=2)]\n",
    "\n",
    "    # res = []\n",
    "    # [res.append(x) for x in division_list if x not in res]\n",
    "    return division_list\n",
    "\n",
    "division_list = get_all_substrings(\"aha\") \n",
    "print(division_list)\n",
    "print(len(division_list))"
   ]
  },
  {
   "cell_type": "code",
   "execution_count": 3,
   "metadata": {},
   "outputs": [
    {
     "name": "stdout",
     "output_type": "stream",
     "text": [
      "{'a': 5, 'ah': 1, 'aha': 2, 'h': 3, 'ha': 4}\n"
     ]
    }
   ],
   "source": [
    "# create dict with word and index of found word...\n",
    "# maybe not needed\n",
    "# remove duplicates from list by converting it to dictionary\n",
    "division_dict =  {k: v for v, k in enumerate(division_list)}\n",
    "print(division_dict)"
   ]
  },
  {
   "cell_type": "code",
   "execution_count": 4,
   "metadata": {},
   "outputs": [
    {
     "name": "stderr",
     "output_type": "stream",
     "text": [
      "[nltk_data] Downloading package words to\n",
      "[nltk_data]     C:\\Users\\richa\\AppData\\Roaming\\nltk_data...\n",
      "[nltk_data]   Package words is already up-to-date!\n"
     ]
    },
    {
     "data": {
      "text/plain": [
       "{'a', 'ah', 'aha', 'h', 'ha'}"
      ]
     },
     "execution_count": 4,
     "metadata": {},
     "output_type": "execute_result"
    }
   ],
   "source": [
    "import nltk\n",
    "from nltk.corpus import words\n",
    "\n",
    "def get_all_words():\n",
    "\tnltk.download(\"words\")\n",
    "\treturn set(words.words())\n",
    "\n",
    "all_words = get_all_words()\n",
    "\n",
    "# okay now we have the unique words, now we need to check if any of them is in the all_words set\n",
    "# make division_list into set \n",
    "division_set = set(division_list)\n",
    "division_all_intersect = division_set.intersection(all_words)\n",
    "division_all_intersect"
   ]
  },
  {
   "cell_type": "code",
   "execution_count": 5,
   "metadata": {},
   "outputs": [
    {
     "data": {
      "text/plain": [
       "{'ah': 1, 'a': 5, 'h': 3, 'ha': 4, 'aha': 2}"
      ]
     },
     "execution_count": 5,
     "metadata": {},
     "output_type": "execute_result"
    }
   ],
   "source": [
    "filtered_division_dict = {key: division_dict[key] for key in division_all_intersect}\n",
    "# filtered_division_dict = {k: v for k, v in sorted(filtered_division_dict.items(), key=lambda item: item[1])}\n",
    "filtered_division_dict"
   ]
  },
  {
   "cell_type": "code",
   "execution_count": 6,
   "metadata": {},
   "outputs": [
    {
     "data": {
      "text/plain": [
       "{'ah': 1, 'a': 5, 'ha': 4, 'aha': 2}"
      ]
     },
     "execution_count": 6,
     "metadata": {},
     "output_type": "execute_result"
    }
   ],
   "source": [
    "# we clear out unnecessary entries\n",
    "for word in list(filtered_division_dict):\n",
    "    if len(word) == 1 and (word != \"a\" and word != \"i\"):\n",
    "        filtered_division_dict.pop(word)\n",
    "\n",
    "filtered_division_dict"
   ]
  },
  {
   "cell_type": "code",
   "execution_count": 7,
   "metadata": {},
   "outputs": [
    {
     "data": {
      "text/plain": [
       "{'ah': 1, 'a': 5, 'ha': 4, 'aha': 2}"
      ]
     },
     "execution_count": 7,
     "metadata": {},
     "output_type": "execute_result"
    }
   ],
   "source": [
    "# filtered_division_dict.pop(\" \")\n",
    "filtered_division_dict"
   ]
  },
  {
   "cell_type": "code",
   "execution_count": 8,
   "metadata": {},
   "outputs": [
    {
     "data": {
      "text/plain": [
       "['ah', 'a', 'ha', 'aha']"
      ]
     },
     "execution_count": 8,
     "metadata": {},
     "output_type": "execute_result"
    }
   ],
   "source": [
    "\"\"\"\n",
    "find_sentences('helpisnowhere', all_words) returns ['help i snow here', 'help is now here', \n",
    "\t\t\t\t\t\t\t\t'help is no where', 'help is nowhere']\n",
    "\"\"\"\n",
    "filtered_division_list = list(filtered_division_dict.keys())\n",
    "filtered_division_list"
   ]
  },
  {
   "cell_type": "code",
   "execution_count": 9,
   "metadata": {},
   "outputs": [
    {
     "data": {
      "text/plain": [
       "[' ah ', ' a ', ' ha ', ' aha ']"
      ]
     },
     "execution_count": 9,
     "metadata": {},
     "output_type": "execute_result"
    }
   ],
   "source": [
    "# add spaces to beginning and end of words\n",
    "filtered_division_list_spaced = [\" \" + x + \" \" for x in filtered_division_list]\n",
    "filtered_division_list_spaced"
   ]
  },
  {
   "cell_type": "code",
   "execution_count": 10,
   "metadata": {},
   "outputs": [],
   "source": [
    "import itertools\n",
    "\n",
    "def all_combinations(input_list: list):\n",
    "    all_combinations_list = []\n",
    "    for r in range(len(input_list) + 1):\n",
    "        all_combinations_list.extend(itertools.combinations(input_list, r))\n",
    "    return all_combinations_list"
   ]
  },
  {
   "cell_type": "code",
   "execution_count": 11,
   "metadata": {},
   "outputs": [
    {
     "data": {
      "text/plain": [
       "[(),\n",
       " ('ah',),\n",
       " ('a',),\n",
       " ('ha',),\n",
       " ('aha',),\n",
       " ('ah', 'a'),\n",
       " ('ah', 'ha'),\n",
       " ('ah', 'aha'),\n",
       " ('a', 'ha'),\n",
       " ('a', 'aha'),\n",
       " ('ha', 'aha'),\n",
       " ('ah', 'a', 'ha'),\n",
       " ('ah', 'a', 'aha'),\n",
       " ('ah', 'ha', 'aha'),\n",
       " ('a', 'ha', 'aha'),\n",
       " ('ah', 'a', 'ha', 'aha')]"
      ]
     },
     "execution_count": 11,
     "metadata": {},
     "output_type": "execute_result"
    }
   ],
   "source": [
    "combos = all_combinations(filtered_division_list)\n",
    "combos"
   ]
  },
  {
   "cell_type": "code",
   "execution_count": 12,
   "metadata": {},
   "outputs": [
    {
     "data": {
      "text/plain": [
       "['a', 'h', 'a']"
      ]
     },
     "execution_count": 12,
     "metadata": {},
     "output_type": "execute_result"
    }
   ],
   "source": [
    "# input_letters as reference\n",
    "# break it up to list of characters\n",
    "input_letters = \"aha\"\n",
    "reference_input = [*input_letters]\n",
    "reference_input"
   ]
  },
  {
   "cell_type": "code",
   "execution_count": 13,
   "metadata": {},
   "outputs": [
    {
     "data": {
      "text/plain": [
       "False"
      ]
     },
     "execution_count": 13,
     "metadata": {},
     "output_type": "execute_result"
    }
   ],
   "source": [
    "# create stripped version of combos and check it against reference_input\n",
    "reference_input == ['h', 'e', 'l', 'p', 'i', 's', 'n', 'o', 'w', 'h', 'e', 'r', 'e']"
   ]
  },
  {
   "cell_type": "code",
   "execution_count": 14,
   "metadata": {},
   "outputs": [
    {
     "data": {
      "text/plain": [
       "['',\n",
       " 'ah',\n",
       " 'a',\n",
       " 'ha',\n",
       " 'aha',\n",
       " 'aha',\n",
       " 'ahha',\n",
       " 'ahaha',\n",
       " 'aha',\n",
       " 'aaha',\n",
       " 'haaha',\n",
       " 'ahaha',\n",
       " 'ahaaha',\n",
       " 'ahhaaha',\n",
       " 'ahaaha',\n",
       " 'ahahaaha']"
      ]
     },
     "execution_count": 14,
     "metadata": {},
     "output_type": "execute_result"
    }
   ],
   "source": [
    "combos_joined = [(\"\".join(tuples)).replace(\" \", \"\") for tuples in combos]\n",
    "combos_joined"
   ]
  },
  {
   "cell_type": "code",
   "execution_count": 15,
   "metadata": {},
   "outputs": [
    {
     "data": {
      "text/plain": [
       "[[],\n",
       " ['a', 'h'],\n",
       " ['a'],\n",
       " ['h', 'a'],\n",
       " ['a', 'h', 'a'],\n",
       " ['a', 'h', 'a'],\n",
       " ['a', 'h', 'h', 'a'],\n",
       " ['a', 'h', 'a', 'h', 'a'],\n",
       " ['a', 'h', 'a'],\n",
       " ['a', 'a', 'h', 'a'],\n",
       " ['h', 'a', 'a', 'h', 'a'],\n",
       " ['a', 'h', 'a', 'h', 'a'],\n",
       " ['a', 'h', 'a', 'a', 'h', 'a'],\n",
       " ['a', 'h', 'h', 'a', 'a', 'h', 'a'],\n",
       " ['a', 'h', 'a', 'a', 'h', 'a'],\n",
       " ['a', 'h', 'a', 'h', 'a', 'a', 'h', 'a']]"
      ]
     },
     "execution_count": 15,
     "metadata": {},
     "output_type": "execute_result"
    }
   ],
   "source": [
    "combos_joined_list = [[*x] for x in combos_joined]\n",
    "combos_joined_list"
   ]
  },
  {
   "cell_type": "code",
   "execution_count": 16,
   "metadata": {},
   "outputs": [
    {
     "data": {
      "text/plain": [
       "[4, 5, 8]"
      ]
     },
     "execution_count": 16,
     "metadata": {},
     "output_type": "execute_result"
    }
   ],
   "source": [
    "# get indices of elements that equal to reference_input\n",
    "correct_indices = [index for index, value in enumerate(combos_joined_list) if value == reference_input]\n",
    "correct_indices"
   ]
  },
  {
   "cell_type": "code",
   "execution_count": 17,
   "metadata": {},
   "outputs": [
    {
     "ename": "IndexError",
     "evalue": "list index out of range",
     "output_type": "error",
     "traceback": [
      "\u001b[1;31m---------------------------------------------------------------------------\u001b[0m",
      "\u001b[1;31mIndexError\u001b[0m                                Traceback (most recent call last)",
      "Cell \u001b[1;32mIn[17], line 1\u001b[0m\n\u001b[1;32m----> 1\u001b[0m \u001b[43mcombos\u001b[49m\u001b[43m[\u001b[49m\u001b[38;5;241;43m316\u001b[39;49m\u001b[43m]\u001b[49m, combos[\u001b[38;5;241m1580\u001b[39m], combos[\u001b[38;5;241m1642\u001b[39m], combos[\u001b[38;5;241m1652\u001b[39m]\n",
      "\u001b[1;31mIndexError\u001b[0m: list index out of range"
     ]
    }
   ],
   "source": [
    "combos[316], combos[1580], combos[1642], combos[1652]"
   ]
  },
  {
   "cell_type": "code",
   "execution_count": null,
   "metadata": {},
   "outputs": [
    {
     "data": {
      "text/plain": [
       "['ha', 'ah a']"
      ]
     },
     "execution_count": 64,
     "metadata": {},
     "output_type": "execute_result"
    }
   ],
   "source": [
    "result = [\" \".join(combos[i]) for i in correct_indices]\n",
    "result"
   ]
  },
  {
   "cell_type": "code",
   "execution_count": null,
   "metadata": {},
   "outputs": [
    {
     "data": {
      "text/plain": [
       "{'a', 'i', 'text', 'text2'}"
      ]
     },
     "execution_count": 72,
     "metadata": {},
     "output_type": "execute_result"
    }
   ],
   "source": [
    "x = {\"a\", \"b\", \"i\", \"z\", \"text\", \"text2\"}\n",
    "\n",
    "for word in list(x):\n",
    "    if len(word) == 1 and (word != \"a\" and word != \"i\"):\n",
    "        x.remove(word)\n",
    "\n",
    "x"
   ]
  },
  {
   "cell_type": "code",
   "execution_count": 22,
   "metadata": {},
   "outputs": [
    {
     "data": {
      "text/plain": [
       "True"
      ]
     },
     "execution_count": 22,
     "metadata": {},
     "output_type": "execute_result"
    }
   ],
   "source": [
    "\"he\" in words.words()"
   ]
  },
  {
   "cell_type": "code",
   "execution_count": null,
   "metadata": {},
   "outputs": [],
   "source": []
  }
 ],
 "metadata": {
  "kernelspec": {
   "display_name": "learning_env",
   "language": "python",
   "name": "python3"
  },
  "language_info": {
   "codemirror_mode": {
    "name": "ipython",
    "version": 3
   },
   "file_extension": ".py",
   "mimetype": "text/x-python",
   "name": "python",
   "nbconvert_exporter": "python",
   "pygments_lexer": "ipython3",
   "version": "3.12.3"
  }
 },
 "nbformat": 4,
 "nbformat_minor": 2
}
