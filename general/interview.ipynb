{
 "cells": [
  {
   "cell_type": "code",
   "execution_count": 52,
   "metadata": {},
   "outputs": [
    {
     "name": "stdout",
     "output_type": "stream",
     "text": [
      "['a', 'ah', 'aha', 'h', 'ha', 'a']\n",
      "6\n"
     ]
    }
   ],
   "source": [
    "import nltk\n",
    "from nltk.corpus import words\n",
    "from itertools import combinations\n",
    "\n",
    "# we need to create all possible divisions of the input string - this solves the problem of word ordering\n",
    "def get_all_substrings(input: str):\n",
    "    length = len(input) + 1\n",
    "    division_list = [input[x:y] for x, y in combinations(range(length), r=2)]\n",
    "\n",
    "    # res = []\n",
    "    # [res.append(x) for x in division_list if x not in res]\n",
    "    return division_list\n",
    "\n",
    "division_list = get_all_substrings(\"aha\") \n",
    "print(division_list)\n",
    "print(len(division_list))"
   ]
  },
  {
   "cell_type": "code",
   "execution_count": 53,
   "metadata": {},
   "outputs": [
    {
     "name": "stdout",
     "output_type": "stream",
     "text": [
      "{'a': 5, 'ah': 1, 'aha': 2, 'h': 3, 'ha': 4}\n"
     ]
    }
   ],
   "source": [
    "# create dict with word and index of found word...\n",
    "# maybe not needed\n",
    "# remove duplicates from list by converting it to dictionary\n",
    "division_dict =  {k: v for v, k in enumerate(division_list)}\n",
    "print(division_dict)"
   ]
  },
  {
   "cell_type": "code",
   "execution_count": 54,
   "metadata": {},
   "outputs": [
    {
     "name": "stderr",
     "output_type": "stream",
     "text": [
      "[nltk_data] Downloading package words to\n",
      "[nltk_data]     C:\\Users\\richa\\AppData\\Roaming\\nltk_data...\n",
      "[nltk_data]   Package words is already up-to-date!\n"
     ]
    },
    {
     "data": {
      "text/plain": [
       "{'a', 'ah', 'aha', 'h', 'ha'}"
      ]
     },
     "execution_count": 54,
     "metadata": {},
     "output_type": "execute_result"
    }
   ],
   "source": [
    "import nltk\n",
    "from nltk.corpus import words\n",
    "\n",
    "def get_all_words():\n",
    "\tnltk.download(\"words\")\n",
    "\treturn set(words.words())\n",
    "\n",
    "all_words = get_all_words()\n",
    "\n",
    "# okay now we have the unique words, now we need to check if any of them is in the all_words set\n",
    "# make division_list into set \n",
    "division_set = set(division_list)\n",
    "division_all_intersect = division_set.intersection(all_words)\n",
    "division_all_intersect"
   ]
  },
  {
   "cell_type": "code",
   "execution_count": 55,
   "metadata": {},
   "outputs": [
    {
     "data": {
      "text/plain": [
       "{'ah': 1, 'h': 3, 'ha': 4, 'aha': 2, 'a': 5}"
      ]
     },
     "execution_count": 55,
     "metadata": {},
     "output_type": "execute_result"
    }
   ],
   "source": [
    "filtered_division_dict = {key: division_dict[key] for key in division_all_intersect}\n",
    "# filtered_division_dict = {k: v for k, v in sorted(filtered_division_dict.items(), key=lambda item: item[1])}\n",
    "filtered_division_dict"
   ]
  },
  {
   "cell_type": "code",
   "execution_count": 56,
   "metadata": {},
   "outputs": [
    {
     "data": {
      "text/plain": [
       "{'ah': 1, 'ha': 4, 'aha': 2, 'a': 5}"
      ]
     },
     "execution_count": 56,
     "metadata": {},
     "output_type": "execute_result"
    }
   ],
   "source": [
    "# we clear out unnecessary entries\n",
    "for word in list(filtered_division_dict):\n",
    "    if len(word) == 1 and (word != \"a\" and word != \"i\"):\n",
    "        filtered_division_dict.pop(word)\n",
    "\n",
    "filtered_division_dict"
   ]
  },
  {
   "cell_type": "code",
   "execution_count": 57,
   "metadata": {},
   "outputs": [
    {
     "data": {
      "text/plain": [
       "{'ah': 1, 'ha': 4, 'aha': 2, 'a': 5}"
      ]
     },
     "execution_count": 57,
     "metadata": {},
     "output_type": "execute_result"
    }
   ],
   "source": [
    "# filtered_division_dict.pop(\" \")\n",
    "filtered_division_dict"
   ]
  },
  {
   "cell_type": "code",
   "execution_count": 58,
   "metadata": {},
   "outputs": [
    {
     "data": {
      "text/plain": [
       "['ah', 'ha', 'aha', 'a']"
      ]
     },
     "execution_count": 58,
     "metadata": {},
     "output_type": "execute_result"
    }
   ],
   "source": [
    "\"\"\"\n",
    "find_sentences('helpisnowhere', all_words) returns ['help i snow here', 'help is now here', \n",
    "\t\t\t\t\t\t\t\t'help is no where', 'help is nowhere']\n",
    "\"\"\"\n",
    "filtered_division_list = list(filtered_division_dict.keys())\n",
    "filtered_division_list"
   ]
  },
  {
   "cell_type": "code",
   "execution_count": 42,
   "metadata": {},
   "outputs": [
    {
     "data": {
      "text/plain": [
       "[' ah ', ' aha ', ' ha ', ' a ']"
      ]
     },
     "execution_count": 42,
     "metadata": {},
     "output_type": "execute_result"
    }
   ],
   "source": [
    "# add spaces to beginning and end of words\n",
    "filtered_division_list_spaced = [\" \" + x + \" \" for x in filtered_division_list]\n",
    "filtered_division_list_spaced"
   ]
  },
  {
   "cell_type": "code",
   "execution_count": 59,
   "metadata": {},
   "outputs": [],
   "source": [
    "import itertools\n",
    "\n",
    "def all_combinations(input_list: list):\n",
    "    all_combinations_list = []\n",
    "    for r in range(len(input_list) + 1):\n",
    "        all_combinations_list.extend(itertools.combinations(input_list, r))\n",
    "    return all_combinations_list"
   ]
  },
  {
   "cell_type": "code",
   "execution_count": 60,
   "metadata": {},
   "outputs": [
    {
     "data": {
      "text/plain": [
       "[(),\n",
       " ('ah',),\n",
       " ('ha',),\n",
       " ('aha',),\n",
       " ('a',),\n",
       " ('ah', 'ha'),\n",
       " ('ah', 'aha'),\n",
       " ('ah', 'a'),\n",
       " ('ha', 'aha'),\n",
       " ('ha', 'a'),\n",
       " ('aha', 'a'),\n",
       " ('ah', 'ha', 'aha'),\n",
       " ('ah', 'ha', 'a'),\n",
       " ('ah', 'aha', 'a'),\n",
       " ('ha', 'aha', 'a'),\n",
       " ('ah', 'ha', 'aha', 'a')]"
      ]
     },
     "execution_count": 60,
     "metadata": {},
     "output_type": "execute_result"
    }
   ],
   "source": [
    "combos = all_combinations(filtered_division_list)\n",
    "combos"
   ]
  },
  {
   "cell_type": "code",
   "execution_count": 61,
   "metadata": {},
   "outputs": [
    {
     "data": {
      "text/plain": [
       "['a', 'h', 'a']"
      ]
     },
     "execution_count": 61,
     "metadata": {},
     "output_type": "execute_result"
    }
   ],
   "source": [
    "# input_letters as reference\n",
    "# break it up to list of characters\n",
    "input_letters = \"aha\"\n",
    "reference_input = [*input_letters]\n",
    "reference_input"
   ]
  },
  {
   "cell_type": "code",
   "execution_count": 12,
   "metadata": {},
   "outputs": [
    {
     "data": {
      "text/plain": [
       "True"
      ]
     },
     "execution_count": 12,
     "metadata": {},
     "output_type": "execute_result"
    }
   ],
   "source": [
    "# create stripped version of combos and check it against reference_input\n",
    "reference_input == ['h', 'e', 'l', 'p', 'i', 's', 'n', 'o', 'w', 'h', 'e', 'r', 'e']"
   ]
  },
  {
   "cell_type": "code",
   "execution_count": 66,
   "metadata": {},
   "outputs": [
    {
     "data": {
      "text/plain": [
       "['',\n",
       " 'ah',\n",
       " 'ha',\n",
       " 'aha',\n",
       " 'a',\n",
       " 'ahha',\n",
       " 'ahaha',\n",
       " 'aha',\n",
       " 'haaha',\n",
       " 'haa',\n",
       " 'ahaa',\n",
       " 'ahhaaha',\n",
       " 'ahhaa',\n",
       " 'ahahaa',\n",
       " 'haahaa',\n",
       " 'ahhaahaa']"
      ]
     },
     "execution_count": 66,
     "metadata": {},
     "output_type": "execute_result"
    }
   ],
   "source": [
    "combos_joined = [(\"\".join(tuples)).replace(\" \", \"\") for tuples in combos]\n",
    "combos_joined"
   ]
  },
  {
   "cell_type": "code",
   "execution_count": 47,
   "metadata": {},
   "outputs": [
    {
     "data": {
      "text/plain": [
       "[[],\n",
       " ['a', 'h'],\n",
       " ['a', 'h', 'a'],\n",
       " ['h', 'a'],\n",
       " ['a'],\n",
       " ['a', 'h', 'a', 'h', 'a'],\n",
       " ['a', 'h', 'h', 'a'],\n",
       " ['a', 'h', 'a'],\n",
       " ['a', 'h', 'a', 'h', 'a'],\n",
       " ['a', 'h', 'a', 'a'],\n",
       " ['h', 'a', 'a'],\n",
       " ['a', 'h', 'a', 'h', 'a', 'h', 'a'],\n",
       " ['a', 'h', 'a', 'h', 'a', 'a'],\n",
       " ['a', 'h', 'h', 'a', 'a'],\n",
       " ['a', 'h', 'a', 'h', 'a', 'a'],\n",
       " ['a', 'h', 'a', 'h', 'a', 'h', 'a', 'a']]"
      ]
     },
     "execution_count": 47,
     "metadata": {},
     "output_type": "execute_result"
    }
   ],
   "source": [
    "combos_joined_list = [[*x] for x in combos_joined]\n",
    "combos_joined_list"
   ]
  },
  {
   "cell_type": "code",
   "execution_count": 63,
   "metadata": {},
   "outputs": [
    {
     "data": {
      "text/plain": [
       "[2, 7]"
      ]
     },
     "execution_count": 63,
     "metadata": {},
     "output_type": "execute_result"
    }
   ],
   "source": [
    "# get indices of elements that equal to reference_input\n",
    "correct_indices = [index for index, value in enumerate(combos_joined_list) if value == reference_input]\n",
    "correct_indices"
   ]
  },
  {
   "cell_type": "code",
   "execution_count": 16,
   "metadata": {},
   "outputs": [
    {
     "data": {
      "text/plain": [
       "(('help', 'is', 'nowhere'),\n",
       " ('help', 'i', 'snow', 'here'),\n",
       " ('help', 'is', 'no', 'where'),\n",
       " ('help', 'is', 'now', 'here'))"
      ]
     },
     "execution_count": 16,
     "metadata": {},
     "output_type": "execute_result"
    }
   ],
   "source": [
    "combos[316], combos[1580], combos[1642], combos[1652]"
   ]
  },
  {
   "cell_type": "code",
   "execution_count": 64,
   "metadata": {},
   "outputs": [
    {
     "data": {
      "text/plain": [
       "['ha', 'ah a']"
      ]
     },
     "execution_count": 64,
     "metadata": {},
     "output_type": "execute_result"
    }
   ],
   "source": [
    "result = [\" \".join(combos[i]) for i in correct_indices]\n",
    "result"
   ]
  },
  {
   "cell_type": "code",
   "execution_count": 72,
   "metadata": {},
   "outputs": [
    {
     "data": {
      "text/plain": [
       "{'a', 'i', 'text', 'text2'}"
      ]
     },
     "execution_count": 72,
     "metadata": {},
     "output_type": "execute_result"
    }
   ],
   "source": [
    "x = {\"a\", \"b\", \"i\", \"z\", \"text\", \"text2\"}\n",
    "\n",
    "for word in list(x):\n",
    "    if len(word) == 1 and (word != \"a\" and word != \"i\"):\n",
    "        x.remove(word)\n",
    "\n",
    "x"
   ]
  },
  {
   "cell_type": "code",
   "execution_count": null,
   "metadata": {},
   "outputs": [],
   "source": []
  }
 ],
 "metadata": {
  "kernelspec": {
   "display_name": "learning_env",
   "language": "python",
   "name": "python3"
  },
  "language_info": {
   "codemirror_mode": {
    "name": "ipython",
    "version": 3
   },
   "file_extension": ".py",
   "mimetype": "text/x-python",
   "name": "python",
   "nbconvert_exporter": "python",
   "pygments_lexer": "ipython3",
   "version": "3.12.3"
  }
 },
 "nbformat": 4,
 "nbformat_minor": 2
}
